{
 "cells": [
  {
   "cell_type": "code",
   "execution_count": 2,
   "metadata": {
    "id": "jcJv9O-zygvs"
   },
   "outputs": [],
   "source": [
    "import pandas as pd\n",
    "import numpy as np\n",
    "import matplotlib.pyplot as plt\n",
    "import seaborn as sns\n",
    "import numpy.random as nr\n",
    "import sklearn.model_selection as ms\n",
    "import math\n",
    "\n",
    "\n",
    "%matplotlib inline"
   ]
  },
  {
   "cell_type": "code",
   "execution_count": 3,
   "metadata": {
    "colab": {
     "base_uri": "https://localhost:8080/",
     "height": 195
    },
    "id": "9TcP4TBLwHOf",
    "outputId": "c827b197-5dcd-45fe-a833-bf99b74af646"
   },
   "outputs": [
    {
     "data": {
      "text/html": [
       "<div>\n",
       "<style scoped>\n",
       "    .dataframe tbody tr th:only-of-type {\n",
       "        vertical-align: middle;\n",
       "    }\n",
       "\n",
       "    .dataframe tbody tr th {\n",
       "        vertical-align: top;\n",
       "    }\n",
       "\n",
       "    .dataframe thead th {\n",
       "        text-align: right;\n",
       "    }\n",
       "</style>\n",
       "<table border=\"1\" class=\"dataframe\">\n",
       "  <thead>\n",
       "    <tr style=\"text-align: right;\">\n",
       "      <th></th>\n",
       "      <th>0</th>\n",
       "      <th>1</th>\n",
       "      <th>2</th>\n",
       "    </tr>\n",
       "  </thead>\n",
       "  <tbody>\n",
       "    <tr>\n",
       "      <th>0</th>\n",
       "      <td>-3.005382</td>\n",
       "      <td>-1.701191</td>\n",
       "      <td>1</td>\n",
       "    </tr>\n",
       "    <tr>\n",
       "      <th>1</th>\n",
       "      <td>-2.908105</td>\n",
       "      <td>-1.699589</td>\n",
       "      <td>1</td>\n",
       "    </tr>\n",
       "    <tr>\n",
       "      <th>2</th>\n",
       "      <td>-2.958954</td>\n",
       "      <td>-1.660940</td>\n",
       "      <td>1</td>\n",
       "    </tr>\n",
       "    <tr>\n",
       "      <th>3</th>\n",
       "      <td>-2.922840</td>\n",
       "      <td>-1.638722</td>\n",
       "      <td>1</td>\n",
       "    </tr>\n",
       "    <tr>\n",
       "      <th>4</th>\n",
       "      <td>-2.924240</td>\n",
       "      <td>-1.508256</td>\n",
       "      <td>1</td>\n",
       "    </tr>\n",
       "  </tbody>\n",
       "</table>\n",
       "</div>"
      ],
      "text/plain": [
       "          0         1  2\n",
       "0 -3.005382 -1.701191  1\n",
       "1 -2.908105 -1.699589  1\n",
       "2 -2.958954 -1.660940  1\n",
       "3 -2.922840 -1.638722  1\n",
       "4 -2.924240 -1.508256  1"
      ]
     },
     "execution_count": 3,
     "metadata": {
      "tags": []
     },
     "output_type": "execute_result"
    }
   ],
   "source": [
    "data = pd.read_json('https://raw.githubusercontent.com/wncc/learners-space/master/Machine%20Learning/MId%20Term%20Assignment/data.json')\n",
    "data.head()"
   ]
  },
  {
   "cell_type": "code",
   "execution_count": 4,
   "metadata": {
    "colab": {
     "base_uri": "https://localhost:8080/"
    },
    "id": "u6zTFcapydjF",
    "outputId": "b01b8e8e-cad9-43b6-955e-d0ea8c6d166e"
   },
   "outputs": [
    {
     "name": "stdout",
     "output_type": "stream",
     "text": [
      "1    4679\n",
      "0    1321\n",
      "Name: 2, dtype: int64\n"
     ]
    }
   ],
   "source": [
    "label_counts = data.iloc[:,2].value_counts()\n",
    "print(label_counts)"
   ]
  },
  {
   "cell_type": "code",
   "execution_count": 5,
   "metadata": {
    "id": "jfK_mdPFN9em"
   },
   "outputs": [],
   "source": [
    "# labels = np.array(data.iloc[:, 2])"
   ]
  },
  {
   "cell_type": "code",
   "execution_count": 6,
   "metadata": {
    "id": "snFsuVz20zKF"
   },
   "outputs": [],
   "source": [
    "nr.seed(3432)\n",
    "\n",
    "X = data.iloc[:,:2]\n",
    "Y = data.iloc[:,2:]\n",
    "x_train,x_test,y_train,y_test = ms.train_test_split(X,Y, test_size = 0.2)"
   ]
  },
  {
   "cell_type": "code",
   "execution_count": 7,
   "metadata": {
    "colab": {
     "base_uri": "https://localhost:8080/"
    },
    "id": "TCGajxa-6Prm",
    "outputId": "f5ff7604-16ec-4ae1-994e-484b5cd7236a"
   },
   "outputs": [
    {
     "data": {
      "text/plain": [
       "array([[0],\n",
       "       [1],\n",
       "       [0],\n",
       "       ...,\n",
       "       [1],\n",
       "       [0],\n",
       "       [0]])"
      ]
     },
     "execution_count": 7,
     "metadata": {
      "tags": []
     },
     "output_type": "execute_result"
    }
   ],
   "source": [
    "np.array(x_train).reshape(4800,2)\n",
    "np.array(y_train).reshape(4800,1)\n",
    "\n"
   ]
  },
  {
   "cell_type": "code",
   "execution_count": 8,
   "metadata": {
    "colab": {
     "base_uri": "https://localhost:8080/"
    },
    "id": "sfrA7WZzV1rO",
    "outputId": "25e50970-8612-429b-94ba-2f5690d065f6"
   },
   "outputs": [
    {
     "name": "stdout",
     "output_type": "stream",
     "text": [
      "             0         1\n",
      "2713 -0.371902 -1.251144\n",
      "695  -2.461700  1.556300\n",
      "2473 -0.643855  0.760351\n",
      "5244  2.137680 -0.110429\n",
      "3775  0.690295  0.829854\n",
      "...        ...       ...\n",
      "5172  2.047902  0.714714\n",
      "4692  1.639363  1.388698\n",
      "45   -2.993520 -0.144795\n",
      "2311 -0.799276 -1.220207\n",
      "3185  0.018570  1.196394\n",
      "\n",
      "[4800 rows x 2 columns]\n"
     ]
    }
   ],
   "source": [
    "print(x_train)"
   ]
  },
  {
   "cell_type": "code",
   "execution_count": 9,
   "metadata": {
    "id": "_87FSYVeuPyK"
   },
   "outputs": [],
   "source": [
    "# Function  \n",
    "def f(A, coef):\n",
    "  fun = np.dot(A,coef.reshape(5,1))\n",
    "  return fun"
   ]
  },
  {
   "cell_type": "code",
   "execution_count": 10,
   "metadata": {
    "id": "VjRM6gflzp96"
   },
   "outputs": [],
   "source": [
    "# Hypothesis\n",
    "def h(A, coef):\n",
    "  return np.array(1/(1+(np.exp(-f(A,coef)))) )"
   ]
  },
  {
   "cell_type": "code",
   "execution_count": 11,
   "metadata": {
    "id": "AYZecIvB3RXF"
   },
   "outputs": [],
   "source": [
    "# Loss function\n",
    "def l(y, A, coef):   # y shouldn't be the predicted values\n",
    "  return (-np.dot(y.T, np.log(h(A, coef))) - np.dot((1-y).T ,np.log(1-h(A, coef))) )/y.shape[0]\n",
    "  # this function will give us the mean loss "
   ]
  },
  {
   "cell_type": "code",
   "execution_count": 12,
   "metadata": {
    "id": "mZc82H1L7WR0"
   },
   "outputs": [],
   "source": [
    "# Gradient \n",
    "def g(A, coef, y):\n",
    "  return np.dot(np.array(h(A, coef).reshape(y.shape[0],1) - y).reshape([1,y.shape[0]]), A)/y.shape[0]\n",
    "  # here we will get a 1x5 matrix consisting of the gradient wrt each of the coeff"
   ]
  },
  {
   "cell_type": "code",
   "execution_count": 13,
   "metadata": {
    "id": "IffAXS9gBns3"
   },
   "outputs": [],
   "source": [
    "# Gradient Descent \n",
    "def gradesc(A, y, coef,L):       # here coef is column vector \n",
    "  for i in range (250):\n",
    "    coef = coef.reshape(5,1) - L*g(A, coef, y).reshape(5,1)\n",
    "  return coef  \n"
   ]
  },
  {
   "cell_type": "code",
   "execution_count": 14,
   "metadata": {
    "colab": {
     "base_uri": "https://localhost:8080/"
    },
    "id": "0Nxy7YDHEyQm",
    "outputId": "2612a71c-d17f-4fcc-d2dc-1cef26741e5b"
   },
   "outputs": [
    {
     "name": "stdout",
     "output_type": "stream",
     "text": [
      "[[ 1.91298605e-02  6.43563036e-02  2.16506221e-01  7.28366007e-01\n",
      "   2.45035471e+00]\n",
      " [ 3.67232118e+01 -2.32166122e+01  1.46776672e+01 -9.27930017e+00\n",
      "   5.86642350e+00]\n",
      " [ 1.71850800e-01 -2.02944770e-01  2.39664753e-01 -2.83028698e-01\n",
      "   3.34238735e-01]\n",
      " ...\n",
      " [ 8.03024531e+01  3.88419512e+00  1.87876847e-01  9.08752230e-03\n",
      "   4.39559545e-04]\n",
      " [ 4.08119830e-01  6.23052177e-01  9.51176558e-01  1.45210446e+00\n",
      "   2.21684118e+00]\n",
      " [ 1.18913640e-07  7.66122030e-06  4.93587586e-04  3.18002480e-02\n",
      "   2.04878688e+00]]\n"
     ]
    },
    {
     "data": {
      "text/plain": [
       "(4800, 5)"
      ]
     },
     "execution_count": 14,
     "metadata": {
      "tags": []
     },
     "output_type": "execute_result"
    }
   ],
   "source": [
    "\n",
    "A0 = np.array(x_train[0]**4).reshape(1, x_train.shape[0])\n",
    "A1 = np.array(x_train[0]**3 * x_train[1]).reshape(1, x_train.shape[0])\n",
    "A2 = np.array(x_train[0]**2 * x_train[1]**2).reshape(1, x_train.shape[0])\n",
    "A3 = np.array(x_train[0]**1 * x_train[1]**3).reshape(1, x_train.shape[0])\n",
    "A4 = np.array(x_train[1]**4 ).reshape(1, x_train.shape[0])\n",
    "A = np.vstack((A0, A1, A2, A3, A4))\n",
    "A = A.T\n",
    "print(A)\n",
    "A.shape"
   ]
  },
  {
   "cell_type": "code",
   "execution_count": 15,
   "metadata": {
    "colab": {
     "base_uri": "https://localhost:8080/"
    },
    "id": "R2RldANkedLP",
    "outputId": "8018369b-cdab-4824-9e90-a9818cd471f4"
   },
   "outputs": [
    {
     "data": {
      "text/plain": [
       "(5,)"
      ]
     },
     "execution_count": 15,
     "metadata": {
      "tags": []
     },
     "output_type": "execute_result"
    }
   ],
   "source": [
    "coef = np.array([0.001, 0.001, 0.001, 0.001, 0.001])\n",
    "type(coef)\n",
    "coef.shape"
   ]
  },
  {
   "cell_type": "code",
   "execution_count": 16,
   "metadata": {
    "colab": {
     "base_uri": "https://localhost:8080/"
    },
    "id": "ULKFMqGneo1P",
    "outputId": "db228015-eb68-4e63-ac5a-6b2d38c1639d"
   },
   "outputs": [
    {
     "data": {
      "text/plain": [
       "array([[ 0.19800197],\n",
       "       [-0.0008506 ],\n",
       "       [ 0.040981  ],\n",
       "       [-0.00106869],\n",
       "       [-0.03651595]])"
      ]
     },
     "execution_count": 16,
     "metadata": {
      "tags": []
     },
     "output_type": "execute_result"
    }
   ],
   "source": [
    "gradesc(A,y_train, coef, 0.001)"
   ]
  },
  {
   "cell_type": "code",
   "execution_count": 17,
   "metadata": {
    "id": "jBui1mIafIbL"
   },
   "outputs": [],
   "source": [
    "def predict(x_test, coef = gradesc(A,y_train, coef, 0.001) ):\n",
    "  A0 = np.array(x_test[0]**4).reshape(1, x_test.shape[0])\n",
    "  A1 = np.array(x_test[0]**3 * x_test[1]).reshape(1, x_test.shape[0])\n",
    "  A2 = np.array(x_test[0]**2 * x_test[1]**2).reshape(1, x_test.shape[0])\n",
    "  A3 = np.array(x_test[0]**1 * x_test[1]**3).reshape(1, x_test.shape[0])\n",
    "  A4 = np.array(x_test[1]**4 ).reshape(1, x_test.shape[0])\n",
    "  A_ = np.vstack((A0, A1, A2, A3, A4))\n",
    "  A_ = A_.T\n",
    "  print('Mean Loss :' ,np.sum(l(y_test,A_,coef)))\n",
    "  # print(A_)\n",
    "  return h(A_, coef)"
   ]
  },
  {
   "cell_type": "code",
   "execution_count": 18,
   "metadata": {
    "colab": {
     "base_uri": "https://localhost:8080/"
    },
    "id": "ArlZWmInhMR3",
    "outputId": "dd5a78c1-d13c-41e6-d5aa-163214f5581c"
   },
   "outputs": [
    {
     "name": "stdout",
     "output_type": "stream",
     "text": [
      "Mean Loss : 0.32309249865730216\n",
      "[[0.50786053]\n",
      " [0.50155393]\n",
      " [0.50329794]\n",
      " ...\n",
      " [0.99042167]\n",
      " [0.72070841]\n",
      " [0.62494952]]\n"
     ]
    }
   ],
   "source": [
    "probs = predict(x_test)\n",
    "print(probs)"
   ]
  },
  {
   "cell_type": "code",
   "execution_count": 34,
   "metadata": {
    "colab": {
     "base_uri": "https://localhost:8080/"
    },
    "id": "bH4di6RuhWK8",
    "outputId": "99114e3e-a594-4dc9-b58b-d244a66ddfae"
   },
   "outputs": [
    {
     "name": "stdout",
     "output_type": "stream",
     "text": [
      "Predicted values\n",
      "1    1035\n",
      "0     165\n",
      "dtype: int64\n"
     ]
    }
   ],
   "source": [
    "def score_model(probs, threshold):\n",
    "    return np.array([1 if x > threshold else 0 for x in probs[:]])\n",
    "y_pred = score_model(probs, 0.5)\n",
    "pred_df = pd.DataFrame(y_pred)\n",
    "print('Predicted values')\n",
    "print(pred_df.value_counts())"
   ]
  },
  {
   "cell_type": "code",
   "execution_count": 31,
   "metadata": {
    "colab": {
     "base_uri": "https://localhost:8080/"
    },
    "id": "9Ypwd1s2_Uie",
    "outputId": "e2cf0b65-efc5-4e22-ef6c-c7677300fcc0"
   },
   "outputs": [
    {
     "name": "stdout",
     "output_type": "stream",
     "text": [
      "Actual values\n"
     ]
    },
    {
     "data": {
      "text/plain": [
       "2\n",
       "1    974\n",
       "0    226\n",
       "dtype: int64"
      ]
     },
     "execution_count": 31,
     "metadata": {
      "tags": []
     },
     "output_type": "execute_result"
    }
   ],
   "source": [
    "print('Actual values')\n",
    "y_test.value_counts()"
   ]
  },
  {
   "cell_type": "code",
   "execution_count": 36,
   "metadata": {
    "colab": {
     "base_uri": "https://localhost:8080/"
    },
    "id": "T1PA_ZNAGSi2",
    "outputId": "e5b5fbcb-7405-4fd3-d3a5-d5cf869cead1"
   },
   "outputs": [
    {
     "name": "stdout",
     "output_type": "stream",
     "text": [
      "                 Confusion matrix\n",
      "                 Score positive    Score negative\n",
      "Actual positive       966                 8\n",
      "Actual negative        69               157\n",
      "\n",
      "Accuracy  0.94\n",
      " \n",
      "           Positive      Negative\n",
      "Num case      974           226\n",
      "Precision    0.93          0.95\n",
      "Recall       0.99          0.69\n",
      "F1           0.96          0.80\n"
     ]
    }
   ],
   "source": [
    "from sklearn import preprocessing\n",
    "import sklearn.model_selection as ms\n",
    "from sklearn import linear_model\n",
    "import sklearn.metrics as sklm\n",
    "\n",
    "def print_metrics(labels, scores):\n",
    "    metrics = sklm.precision_recall_fscore_support(labels, scores)\n",
    "    conf = sklm.confusion_matrix(labels, scores)\n",
    "    print('                 Confusion matrix')\n",
    "    print('                 Score positive    Score negative')\n",
    "    print('Actual positive    %6d' % conf[1,1] + '             %5d' % conf[1,0])\n",
    "    print('Actual negative    %6d' % conf[0,1] + '             %5d' % conf[0,0])\n",
    "    print('')\n",
    "    print('Accuracy  %0.2f' % sklm.accuracy_score(labels, scores))\n",
    "    print(' ')\n",
    "    print('           Positive      Negative')\n",
    "    print('Num case   %6d' % metrics[3][1] + '        %6d' % metrics[3][0])\n",
    "    print('Precision  %6.2f' % metrics[0][1] + '        %6.2f' % metrics[0][0])\n",
    "    print('Recall     %6.2f' % metrics[1][1] + '        %6.2f' % metrics[1][0])\n",
    "    print('F1         %6.2f' % metrics[2][1] + '        %6.2f' % metrics[2][0])\n",
    "\n",
    "\n",
    "    \n",
    "print_metrics(y_test, y_pred)"
   ]
  },
  {
   "cell_type": "markdown",
   "metadata": {
    "id": "9uEPWXFe3zZc"
   },
   "source": [
    "Here we can see that the accuracy is high ... though accuracy is not the best metric to evaluate ... the Precision and Recall are also good enough."
   ]
  },
  {
   "cell_type": "code",
   "execution_count": 21,
   "metadata": {
    "id": "EusTLZ2SHBKq"
   },
   "outputs": [],
   "source": []
  }
 ],
 "metadata": {
  "colab": {
   "collapsed_sections": [],
   "name": "Problem_2.ipynb",
   "provenance": []
  },
  "kernelspec": {
   "display_name": "Python 3",
   "language": "python",
   "name": "python3"
  },
  "language_info": {
   "codemirror_mode": {
    "name": "ipython",
    "version": 3
   },
   "file_extension": ".py",
   "mimetype": "text/x-python",
   "name": "python",
   "nbconvert_exporter": "python",
   "pygments_lexer": "ipython3",
   "version": "3.8.5"
  }
 },
 "nbformat": 4,
 "nbformat_minor": 1
}
