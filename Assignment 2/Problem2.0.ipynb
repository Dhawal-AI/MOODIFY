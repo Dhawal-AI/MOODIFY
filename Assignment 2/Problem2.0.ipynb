{
 "cells": [
  {
   "cell_type": "code",
   "execution_count": 28,
   "metadata": {},
   "outputs": [
    {
     "data": {
      "text/html": [
       "<div>\n",
       "<style scoped>\n",
       "    .dataframe tbody tr th:only-of-type {\n",
       "        vertical-align: middle;\n",
       "    }\n",
       "\n",
       "    .dataframe tbody tr th {\n",
       "        vertical-align: top;\n",
       "    }\n",
       "\n",
       "    .dataframe thead th {\n",
       "        text-align: right;\n",
       "    }\n",
       "</style>\n",
       "<table border=\"1\" class=\"dataframe\">\n",
       "  <thead>\n",
       "    <tr style=\"text-align: right;\">\n",
       "      <th></th>\n",
       "      <th>0</th>\n",
       "      <th>1</th>\n",
       "      <th>2</th>\n",
       "    </tr>\n",
       "  </thead>\n",
       "  <tbody>\n",
       "    <tr>\n",
       "      <th>0</th>\n",
       "      <td>-3.005382</td>\n",
       "      <td>-1.701191</td>\n",
       "      <td>1</td>\n",
       "    </tr>\n",
       "    <tr>\n",
       "      <th>1</th>\n",
       "      <td>-2.908105</td>\n",
       "      <td>-1.699589</td>\n",
       "      <td>1</td>\n",
       "    </tr>\n",
       "    <tr>\n",
       "      <th>2</th>\n",
       "      <td>-2.958954</td>\n",
       "      <td>-1.660940</td>\n",
       "      <td>1</td>\n",
       "    </tr>\n",
       "    <tr>\n",
       "      <th>3</th>\n",
       "      <td>-2.922840</td>\n",
       "      <td>-1.638722</td>\n",
       "      <td>1</td>\n",
       "    </tr>\n",
       "    <tr>\n",
       "      <th>4</th>\n",
       "      <td>-2.924240</td>\n",
       "      <td>-1.508256</td>\n",
       "      <td>1</td>\n",
       "    </tr>\n",
       "  </tbody>\n",
       "</table>\n",
       "</div>"
      ],
      "text/plain": [
       "          0         1  2\n",
       "0 -3.005382 -1.701191  1\n",
       "1 -2.908105 -1.699589  1\n",
       "2 -2.958954 -1.660940  1\n",
       "3 -2.922840 -1.638722  1\n",
       "4 -2.924240 -1.508256  1"
      ]
     },
     "execution_count": 28,
     "metadata": {},
     "output_type": "execute_result"
    }
   ],
   "source": [
    "import pandas as pd\n",
    "import numpy as np\n",
    "import sklearn.model_selection as ms\n",
    "import math\n",
    "import matplotlib.pyplot as plt\n",
    "import seaborn as sns\n",
    "import numpy.random as nr\n",
    "\n",
    "\n",
    "\n",
    "%matplotlib inline\n",
    "\n",
    "data = pd.read_json('https://raw.githubusercontent.com/wncc/learners-space/master/Machine%20Learning/MId%20Term%20Assignment/data.json')\n",
    "data.head()\n",
    "\n"
   ]
  },
  {
   "cell_type": "code",
   "execution_count": 29,
   "metadata": {},
   "outputs": [
    {
     "name": "stdout",
     "output_type": "stream",
     "text": [
      "1    4679\n",
      "0    1321\n",
      "Name: 2, dtype: int64\n"
     ]
    }
   ],
   "source": [
    "onesandzeros = data.iloc[:,2].value_counts()\n",
    "print(onesandzeros)\n",
    "\n"
   ]
  },
  {
   "cell_type": "code",
   "execution_count": 30,
   "metadata": {},
   "outputs": [],
   "source": [
    "nr.seed(0)\n",
    "\n",
    "X = data.iloc[:,:2]\n",
    "Y = data.iloc[:,2:]\n",
    "x_train,x_test,y_train,y_test = ms.train_test_split(X,Y, test_size = 0.5)"
   ]
  },
  {
   "cell_type": "code",
   "execution_count": 31,
   "metadata": {},
   "outputs": [
    {
     "data": {
      "text/plain": [
       "array([[ 0.38110957,  1.31420618],\n",
       "       [ 2.41908323,  1.40595449],\n",
       "       [-0.86450147, -1.03095657],\n",
       "       ...,\n",
       "       [-1.35025675,  0.02093702],\n",
       "       [-0.31304283, -1.52201001],\n",
       "       [-0.38777214, -0.67340907]])"
      ]
     },
     "execution_count": 31,
     "metadata": {},
     "output_type": "execute_result"
    }
   ],
   "source": [
    "np.array(x_train).reshape(3000,2)"
   ]
  },
  {
   "cell_type": "code",
   "execution_count": 39,
   "metadata": {},
   "outputs": [
    {
     "name": "stdout",
     "output_type": "stream",
     "text": [
      "             0         1\n",
      "3491  0.381110  1.314206\n",
      "5495  2.419083  1.405954\n",
      "2122 -0.864501 -1.030957\n",
      "5379  2.267834  0.987245\n",
      "2722 -0.333623 -0.976846\n",
      "...        ...       ...\n",
      "4931  1.876250 -0.568660\n",
      "3264  0.164360  0.403848\n",
      "1653 -1.350257  0.020937\n",
      "2607 -0.313043 -1.522010\n",
      "2732 -0.387772 -0.673409\n",
      "\n",
      "[3000 rows x 2 columns]\n",
      "      2\n",
      "3491  0\n",
      "5495  1\n",
      "2122  0\n",
      "5379  1\n",
      "2722  0\n",
      "...  ..\n",
      "4931  1\n",
      "3264  1\n",
      "1653  1\n",
      "2607  0\n",
      "2732  0\n",
      "\n",
      "[3000 rows x 1 columns]\n"
     ]
    }
   ],
   "source": [
    "print(x_train)\n",
    "print(y_train)\n"
   ]
  },
  {
   "cell_type": "code",
   "execution_count": 32,
   "metadata": {},
   "outputs": [
    {
     "name": "stdout",
     "output_type": "stream",
     "text": [
      "[[ 2.10959661e-02  7.27466616e-02  2.50857284e-01  8.65048317e-01\n",
      "   2.10959661e-02]\n",
      " [ 3.42454790e+01  1.99032362e+01  1.15676236e+01  6.72302305e+00\n",
      "   3.42454790e+01]\n",
      " [ 5.58551146e-01  6.66097161e-01  7.94350581e-01  9.47298507e-01\n",
      "   5.58551146e-01]\n",
      " ...\n",
      " [ 3.32403378e+00 -5.15423284e-02  7.99213183e-04 -1.23925661e-05\n",
      "   3.32403378e+00]\n",
      " [ 9.60317954e-03  4.66905292e-02  2.27008722e-01  1.10371334e+00\n",
      "   9.60317954e-03]\n",
      " [ 2.26103056e-02  3.92652879e-02  6.81885003e-02  1.18416847e-01\n",
      "   2.26103056e-02]]\n"
     ]
    },
    {
     "data": {
      "text/plain": [
       "(3000, 5)"
      ]
     },
     "execution_count": 32,
     "metadata": {},
     "output_type": "execute_result"
    }
   ],
   "source": [
    "A0 = np.array(pow(x_train[0],4)).reshape(1, x_train.shape[0])\n",
    "A1 = np.array(pow(x_train[0],3)*x_train[1]).reshape(1, x_train.shape[0])\n",
    "A2 = np.array(pow(x_train[0],2)*x_train[1]**2).reshape(1, x_train.shape[0])\n",
    "A3 = np.array(pow(x_train[0],1)*x_train[1]**3).reshape(1, x_train.shape[0])\n",
    "A4 = np.array(pow(x_train[0],4) ).reshape(1, x_train.shape[0])\n",
    "A = np.vstack((A0, A1, A2, A3, A4))\n",
    "A = A.T\n",
    "print(A)\n",
    "A.shape"
   ]
  },
  {
   "cell_type": "code",
   "execution_count": 33,
   "metadata": {},
   "outputs": [],
   "source": [
    "coef = np.array([0.001, 0.001, 0.001, 0.001, 0.001])"
   ]
  },
  {
   "cell_type": "code",
   "execution_count": 34,
   "metadata": {},
   "outputs": [
    {
     "name": "stdout",
     "output_type": "stream",
     "text": [
      "[[ 1.24137094]\n",
      " [-0.04987999]\n",
      " [-1.65999722]\n",
      " [ 0.00712061]\n",
      " [ 1.24137094]]\n"
     ]
    }
   ],
   "source": [
    "   y=y_train\n",
    "for i in range (250):\n",
    "    coef = coef.reshape(5,1) - 0.2*(np.dot(np.array((np.array(1/(1+\n",
    "           (np.exp(-(np.dot(A,coef.reshape(5,1)))))))).reshape(y.shape[0],1) - y).reshape([1,y.shape[0]]), A)/y.shape[0]).reshape(5,1)\n",
    "    \n",
    "print(coef)\n",
    "y_train=y"
   ]
  },
  {
   "cell_type": "code",
   "execution_count": 35,
   "metadata": {},
   "outputs": [
    {
     "name": "stdout",
     "output_type": "stream",
     "text": [
      "Mean Loss : nan\n",
      "[[0.9442101 ]\n",
      " [0.97706775]\n",
      " [1.        ]\n",
      " ...\n",
      " [0.94166624]\n",
      " [0.88208165]\n",
      " [1.        ]]\n"
     ]
    },
    {
     "name": "stderr",
     "output_type": "stream",
     "text": [
      "<ipython-input-35-3b7cc90285c7>:7: RuntimeWarning: divide by zero encountered in log\n",
      "  return (-np.dot(y.T, np.log(h(A, coef))) - np.dot((1-y).T ,np.log(1-h(A, coef))) )/y.shape[0]\n"
     ]
    }
   ],
   "source": [
    "def h(A, coef):\n",
    "  return np.array(1/(1+(np.exp(-f(A,coef)))) )\n",
    "def f(A, coef):\n",
    "  fun = np.dot(A,coef.reshape(5,1))\n",
    "  return fun\n",
    "def l(y, A, coef): \n",
    "  return (-np.dot(y.T, np.log(h(A, coef))) - np.dot((1-y).T ,np.log(1-h(A, coef))) )/y.shape[0]\n",
    "def g(A, coef, y):\n",
    "  return np.dot(np.array(h(A, coef).reshape(y.shape[0],1) - y).reshape([1,y.shape[0]]), A)/y.shape[0]\n",
    "def gradesc(A, y, coef,L):       # here coef is column vector \n",
    "  for i in range (250):\n",
    "    coef = coef.reshape(5,1) - L*g(A, coef, y).reshape(5,1)\n",
    "  return coef \n",
    "\n",
    "def predict(x_test, coef = gradesc(A,y_train, coef, 0.001) ):\n",
    "  A0 = np.array(x_test[0]**4).reshape(1, x_test.shape[0])\n",
    "  A1 = np.array(x_test[0]**3 * x_test[1]).reshape(1, x_test.shape[0])\n",
    "  A2 = np.array(x_test[0]**2 * x_test[1]**2).reshape(1, x_test.shape[0])\n",
    "  A3 = np.array(x_test[0]**1 * x_test[1]**3).reshape(1, x_test.shape[0])\n",
    "  A4 = np.array(x_test[1]**4 ).reshape(1, x_test.shape[0])\n",
    "  A_ = np.vstack((A0, A1, A2, A3, A4))\n",
    "  A_ = A_.T\n",
    "  print('Mean Loss :' ,np.sum(l(y_test,A_,coef)))\n",
    "  return h(A_, coef)\n",
    "\n",
    "probs = predict(x_test)\n",
    "print(probs)"
   ]
  },
  {
   "cell_type": "code",
   "execution_count": 36,
   "metadata": {},
   "outputs": [
    {
     "name": "stdout",
     "output_type": "stream",
     "text": [
      "Predicted values\n",
      "1    2923\n",
      "0      77\n",
      "dtype: int64\n"
     ]
    }
   ],
   "source": [
    "def score_model(probs, threshold):\n",
    "    return np.array([1 if x > threshold else 0 for x in probs[:]])\n",
    "y_pred = score_model(probs, 0.5035)\n",
    "pred_df = pd.DataFrame(y_pred)\n",
    "print('Predicted values')\n",
    "print(pred_df.value_counts())"
   ]
  },
  {
   "cell_type": "code",
   "execution_count": 37,
   "metadata": {},
   "outputs": [
    {
     "name": "stdout",
     "output_type": "stream",
     "text": [
      "Actual values\n"
     ]
    },
    {
     "data": {
      "text/plain": [
       "2\n",
       "1    2346\n",
       "0     654\n",
       "dtype: int64"
      ]
     },
     "execution_count": 37,
     "metadata": {},
     "output_type": "execute_result"
    }
   ],
   "source": [
    "print('Actual values')\n",
    "y_test.value_counts()"
   ]
  },
  {
   "cell_type": "code",
   "execution_count": 38,
   "metadata": {},
   "outputs": [
    {
     "name": "stdout",
     "output_type": "stream",
     "text": [
      "                 Confusion matrix\n",
      "                 Score positive    Score negative\n",
      "Actual positive      2305                41\n",
      "Actual negative       618                36\n",
      "\n",
      "Accuracy  0.78\n",
      " \n",
      "           Positive      Negative\n",
      "Num case     2346           654\n",
      "Precision    0.79          0.47\n",
      "Recall       0.98          0.06\n",
      "F1           0.87          0.10\n",
      "                 Confusion matrix\n",
      "                 Score positive    Score negative\n",
      "Actual positive      2305                41\n",
      "Actual negative       618                36\n",
      "\n",
      "Accuracy  0.78\n",
      " \n",
      "           Positive      Negative\n",
      "Num case     2346           654\n",
      "Precision    0.79          0.47\n",
      "Recall       0.98          0.06\n",
      "F1           0.87          0.10\n"
     ]
    }
   ],
   "source": [
    "from sklearn import preprocessing\n",
    "import sklearn.model_selection as ms\n",
    "from sklearn import linear_model\n",
    "import sklearn.metrics as sklm\n",
    "\n",
    "def print_metrics(labels, scores):\n",
    "    metrics = sklm.precision_recall_fscore_support(labels, scores)\n",
    "    conf = sklm.confusion_matrix(labels, scores)\n",
    "    print('                 Confusion matrix')\n",
    "    print('                 Score positive    Score negative')\n",
    "    print('Actual positive    %6d' % conf[1,1] + '             %5d' % conf[1,0])\n",
    "    print('Actual negative    %6d' % conf[0,1] + '             %5d' % conf[0,0])\n",
    "    print('')\n",
    "    print('Accuracy  %0.2f' % sklm.accuracy_score(labels, scores))\n",
    "    print(' ')\n",
    "    print('           Positive      Negative')\n",
    "    print('Num case   %6d' % metrics[3][1] + '        %6d' % metrics[3][0])\n",
    "    print('Precision  %6.2f' % metrics[0][1] + '        %6.2f' % metrics[0][0])\n",
    "    print('Recall     %6.2f' % metrics[1][1] + '        %6.2f' % metrics[1][0])\n",
    "    print('F1         %6.2f' % metrics[2][1] + '        %6.2f' % metrics[2][0])\n",
    "\n",
    "\n",
    "    \n",
    "print_metrics(y_test, y_pred)    \n",
    "print_metrics(y_test, y_pred)"
   ]
  },
  {
   "cell_type": "code",
   "execution_count": null,
   "metadata": {},
   "outputs": [],
   "source": []
  },
  {
   "cell_type": "code",
   "execution_count": null,
   "metadata": {},
   "outputs": [],
   "source": []
  },
  {
   "cell_type": "code",
   "execution_count": null,
   "metadata": {},
   "outputs": [],
   "source": []
  }
 ],
 "metadata": {
  "kernelspec": {
   "display_name": "Python 3",
   "language": "python",
   "name": "python3"
  },
  "language_info": {
   "codemirror_mode": {
    "name": "ipython",
    "version": 3
   },
   "file_extension": ".py",
   "mimetype": "text/x-python",
   "name": "python",
   "nbconvert_exporter": "python",
   "pygments_lexer": "ipython3",
   "version": "3.8.5"
  }
 },
 "nbformat": 4,
 "nbformat_minor": 4
}
